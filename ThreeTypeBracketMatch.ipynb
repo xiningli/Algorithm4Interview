{
 "cells": [
  {
   "cell_type": "code",
   "execution_count": null,
   "metadata": {},
   "outputs": [],
   "source": [
    "def is_matched(expression):\n",
    "    bracket_list = []\n",
    "    for ticker in expression:\n",
    "        bracket_list.append(ticker)\n",
    "        \n",
    "    stack = []\n",
    "    for ticker in bracket_list:\n",
    "        if ticker == '(':\n",
    "            stack.append('(')\n",
    "        elif ticker == '[':\n",
    "            stack.append('[')\n",
    "        elif ticker == '{':\n",
    "            stack.append('{')\n",
    "        elif ticker == ')':\n",
    "            if stack!=[] and stack[-1]=='(' :\n",
    "                stack.pop()\n",
    "            else:\n",
    "                return False\n",
    "        elif ticker == ']':\n",
    "            if stack!=[] and stack[-1]=='[' :\n",
    "                stack.pop()\n",
    "            else:\n",
    "                return False\n",
    "        elif ticker == '}':\n",
    "            if stack!=[] and stack[-1]=='{' :\n",
    "                stack.pop()\n",
    "            else:\n",
    "                return False\n",
    "    if stack != []:\n",
    "        return False\n",
    "    return True\n",
    "    \n",
    "    \n",
    "t = int(input().strip())\n",
    "for a0 in range(t):\n",
    "    expression = input().strip()\n",
    "    if is_matched(expression) == True:\n",
    "        print(\"YES\")\n",
    "    else:\n",
    "        print(\"NO\")\n"
   ]
  },
  {
   "cell_type": "code",
   "execution_count": null,
   "metadata": {
    "collapsed": true
   },
   "outputs": [],
   "source": []
  }
 ],
 "metadata": {
  "kernelspec": {
   "display_name": "Python 3",
   "language": "python",
   "name": "python3"
  },
  "language_info": {
   "codemirror_mode": {
    "name": "ipython",
    "version": 3
   },
   "file_extension": ".py",
   "mimetype": "text/x-python",
   "name": "python",
   "nbconvert_exporter": "python",
   "pygments_lexer": "ipython3",
   "version": "3.6.3"
  }
 },
 "nbformat": 4,
 "nbformat_minor": 2
}

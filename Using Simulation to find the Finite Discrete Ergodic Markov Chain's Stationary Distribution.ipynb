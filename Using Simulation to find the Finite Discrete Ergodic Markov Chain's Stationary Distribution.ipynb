{
 "cells": [
  {
   "cell_type": "markdown",
   "metadata": {},
   "source": [
    "# Simulations of Finite Discrete Markov Chain"
   ]
  },
  {
   "cell_type": "markdown",
   "metadata": {},
   "source": [
    "This Markov chain is irreducible, if it can go from every state to every state in a finite amount of time.\n",
    "\n",
    "In this assignment, we are interested in two properties of a finite discrete markov chian. \n",
    "\n",
    "1. Stationary distribution\n",
    "2. Hitting time, which is the expected steps from state $i$ to state $j$"
   ]
  },
  {
   "cell_type": "markdown",
   "metadata": {},
   "source": [
    "The stationary distribution for an irreducible recurrent Markov Chain is the probability distribution to which the process converges for large values of $t$\n",
    "\n",
    "A stationary distribution $\\pi$ is a (row) vector, whose entries are non-negative and sum to 1, is unchanged by the operation of transition matrix P on it and so is defined by\n",
    "\n",
    "$$\n",
    "{\\displaystyle \\pi \\mathbf {P} =\\pi .}\n",
    "$$\n"
   ]
  },
  {
   "cell_type": "markdown",
   "metadata": {},
   "source": [
    "## Analytical Class"
   ]
  },
  {
   "cell_type": "code",
   "execution_count": 87,
   "metadata": {
    "collapsed": true
   },
   "outputs": [],
   "source": [
    "import numpy as np\n",
    "import scipy.linalg as LA\n",
    "\n",
    "\n",
    "class finite_discrete_markov_chain():\n",
    "#the initialization of the class\n",
    "    def __init__(self, tr):\n",
    "        # raise an error if the input is not the numpy matrix\n",
    "        if str(type(tr))!=\"<class 'numpy.matrixlib.defmatrix.matrix'>\":\n",
    "            print(\"Error: Please enter a numpy matrix class\")\n",
    "            return None\n",
    "        \n",
    "        # check the shape of the matrix\n",
    "        if len(tr)!=len(np.squeeze(np.asarray(tr[0]))): \n",
    "            print(\"Error: transition matrix is not shape NxN\")\n",
    "            return None\n",
    "        \n",
    "        # check if all exit having sum of probability 1\n",
    "        for ticker in range(len(tr)):\n",
    "            if abs(sum(np.squeeze(np.asarray(tran_mat))[ticker])-1)>0.00001:\n",
    "                print(\"Error: total transition on a state not equal to 1\")\n",
    "                return None\n",
    "        self.transition_matrix = tr\n",
    "        self.number_of_states = len(tr)\n",
    " \n",
    "    def Q_absorbing_state(self):\n",
    "        absorbing_states = []\n",
    "        for ticker in range(self.number_of_states):\n",
    "            if self.transition_matrix[ticker,ticker] ==1: absorbing_states.append(ticker)\n",
    "\n",
    "        if len(absorbing_states)>0: \n",
    "            print(\"The following are absorbing states\")\n",
    "            print(absorbing_states)\n",
    "            return True\n",
    "        else: return False\n",
    "        \n",
    "    def stationary_distribution(self):\n",
    "        if self.Q_absorbing_state()==True:\n",
    "            return \"Therefore, non-absorbing states have no distributions\"\n",
    "        else:\n",
    "            Q= np.transpose(self.transition_matrix)-np.identity(self.number_of_states)\n",
    "            Before_LA = np.column_stack([Q, np.zeros(self.number_of_states)])\n",
    "            Before_LA=np.row_stack([Before_LA, np.ones(self.number_of_states+1)])\n",
    "            a = Before_LA[:,np.arange(0,self.number_of_states)]\n",
    "            b = Before_LA[:,-1]\n",
    "            return LA.solve(np.squeeze(np.asarray(a[1:len(a)+1])),\n",
    "                            np.squeeze(np.asarray(b[1:len(b)+1])))\n",
    "\n",
    "    def steps_from_state_i_to_state_j(self,state_i, state_j):\n",
    "        if self.Q_absorbing_state()==True:\n",
    "            return \"You might want to consider the function: time to absorption. \"\n",
    "        else:\n",
    "            print(\"The average number of steps needed to go from state i to state j is:\")            \n",
    "            if state_i==state_j:\n",
    "                return 0\n",
    "            \n",
    "            PT = np.delete(self.transition_matrix,state_j,0)\n",
    "            PT = np.delete(PT,state_j,1)\n",
    "            \n",
    "            return np.matmul(\n",
    "                np.linalg.inv(np.eye(self.number_of_states-1)- PT),\n",
    "                np.transpose(np.matrix(np.ones(self.number_of_states-1)))\n",
    "            )[state_i-((state_j<state_i))].item(0)"
   ]
  },
  {
   "cell_type": "markdown",
   "metadata": {},
   "source": [
    "The expected hitting  time can be calculated via:\n",
    "\n",
    "np.transpose(np.matrix(np.ones(self.number_of_states-1)))\n",
    "\n",
    "$$\n",
    "(I_{NStaets-1} - P_T)^{-1}   \\cdot C_{NStaets-1}\n",
    "$$\n",
    "\n",
    "\n",
    "Where\n",
    "\n",
    "* The $I_{NStaets-1}$ denotes the identity matrix with dimension of $NStaets-1$\n",
    "* $P_T$ means the transient matrix with all the transient states\n",
    "* The $C_{NStaets-1}$ means  a column vector with $NStates-1$ amount of ones.  \n",
    "\n",
    "\n",
    "After this calculation, we obtained a column matrix with expected numbers of steps needed to go from state $i$ to state $j$, for all $i \\neq j$"
   ]
  },
  {
   "cell_type": "markdown",
   "metadata": {},
   "source": [
    "Here is the analytical result of stationary distribution"
   ]
  },
  {
   "cell_type": "code",
   "execution_count": 89,
   "metadata": {
    "collapsed": true
   },
   "outputs": [],
   "source": [
    "tran_mat = np.matrix([[1/6, 5/6,0,0,0], \n",
    "                      [1/6, 1/6, 4/6, 0,0],\n",
    "                      [0,1/6,2/6,3/6,0],\n",
    "                      [0,0,1/6,3/6,2/6],\n",
    "                      [1,0,0,0,0]\n",
    "                     ])"
   ]
  },
  {
   "cell_type": "code",
   "execution_count": 90,
   "metadata": {
    "collapsed": true
   },
   "outputs": [],
   "source": [
    "chain0 = finite_discrete_markov_chain(tran_mat)"
   ]
  },
  {
   "cell_type": "code",
   "execution_count": 91,
   "metadata": {},
   "outputs": [
    {
     "data": {
      "text/plain": [
       "array([ 0.15137615,  0.20642202,  0.27522936,  0.27522936,  0.09174312])"
      ]
     },
     "execution_count": 91,
     "metadata": {},
     "output_type": "execute_result"
    }
   ],
   "source": [
    "chain0.stationary_distribution()"
   ]
  },
  {
   "cell_type": "markdown",
   "metadata": {},
   "source": [
    "The above is nothing else but  the linear solution of the  ${\\displaystyle \\pi \\mathbf {P} =\\pi .}$"
   ]
  },
  {
   "cell_type": "markdown",
   "metadata": {},
   "source": [
    "Here is the analytical result of hitting time"
   ]
  },
  {
   "cell_type": "code",
   "execution_count": 92,
   "metadata": {},
   "outputs": [
    {
     "name": "stdout",
     "output_type": "stream",
     "text": [
      "The average number of steps needed to go from state i to state j is:\n"
     ]
    },
    {
     "data": {
      "text/plain": [
       "4.299999999999999"
      ]
     },
     "execution_count": 92,
     "metadata": {},
     "output_type": "execute_result"
    }
   ],
   "source": [
    "chain0.steps_from_state_i_to_state_j(3,4)"
   ]
  },
  {
   "cell_type": "markdown",
   "metadata": {},
   "source": [
    "## Numerical Class"
   ]
  },
  {
   "cell_type": "markdown",
   "metadata": {},
   "source": [
    "We can naively simulate the moving of Markov Chain by randomly selection $s$ starting points and $k$ jumps"
   ]
  },
  {
   "cell_type": "markdown",
   "metadata": {},
   "source": [
    "The idea of from one state going to some other states based on the probability is to set up intervals in [0,1] with length corresponding to each transition probability. The random variable following an uniform distribution in [0,1] can lie inside of different sub-intervals and tell us what next state it is going to be"
   ]
  },
  {
   "cell_type": "code",
   "execution_count": 124,
   "metadata": {
    "collapsed": true
   },
   "outputs": [],
   "source": [
    "import random\n",
    "from collections import Counter\n",
    "class NFDMC():\n",
    "    def __init__(self, tr, start_state):        \n",
    "        self.states = [_ for _ in range(len(tr))]\n",
    "        self.transition_function = tr\n",
    "        self.current_state = start_state\n",
    "        return\n",
    "    \n",
    "    def find_current_state(self):\n",
    "        return self.current_state\n",
    "    \n",
    "    def find_next_state(self):\n",
    "        current_transitions = [self.transition_function[self.current_state,_] for _  in range(len(self.states))]\n",
    "        \n",
    "        current_intervals = []\n",
    "        \n",
    "        # here is to generate the intervals. \n",
    "        for i in current_transitions:\n",
    "            if len(current_intervals)==0: #skip the first one\n",
    "                current_intervals=[i]\n",
    "                continue\n",
    "            current_intervals.append(i+current_intervals[-1])\n",
    "        \n",
    "        rand_seed = np.random.uniform(0,1)\n",
    "        \n",
    "        \n",
    "        \n",
    "        i=0 # indicating the current state\n",
    "        for threshold in current_intervals:\n",
    "            if rand_seed< threshold:\n",
    "                break\n",
    "            else:\n",
    "                i=i+1\n",
    "        self.current_state = i\n",
    "        return self.current_state\n",
    "    \n",
    "    \n",
    "    def set_start_state_find_k_step_aheads_state_and_store_result(self,start_state,k):\n",
    "        self.current_state = start_state\n",
    "        result_list = [self.current_state]\n",
    "        for i in range(k):\n",
    "            result_list.append(self.find_next_state())\n",
    "        return result_list\n",
    "    \n",
    "    \n",
    "    def Nstationary_distribution(self):\n",
    "        total_result = []\n",
    "\n",
    "        n_start = 100\n",
    "        n_path = 100\n",
    "\n",
    "        for i in range(n_start):\n",
    "            r_start = random.choice(self.states)\n",
    "            for j in range(n_path):\n",
    "                tmp = self.set_start_state_find_k_step_aheads_state_and_store_result(r_start,n_path)\n",
    "                total_result+=tmp\n",
    "        \n",
    "        n_states =len(self.states)\n",
    "        \n",
    "        \n",
    "        \n",
    "        return np.array([Counter(total_result)[_] for _ in range(n_states)])/(len(total_result))\n",
    "    \n",
    "    def NHitting_time(self, start_state, end_state):\n",
    "        print(\"WARNING, THIS METHOD WILL RESET THE STARTING STATE OF THE NDFMC CLASS\")\n",
    "        self.current_state = start_state\n",
    "        step_list = []\n",
    "        \n",
    "        \n",
    "        for rep in range(10000):\n",
    "            self.current_state = start_state\n",
    "            tmp_n_step = 0\n",
    "            while(self.current_state!=end_state):\n",
    "                self.current_state = self.find_next_state()\n",
    "                tmp_n_step+=1\n",
    "            step_list.append(tmp_n_step)\n",
    "\n",
    "        return np.mean(step_list)"
   ]
  },
  {
   "cell_type": "code",
   "execution_count": 125,
   "metadata": {},
   "outputs": [],
   "source": [
    "chain1 = NFDMC(tran_mat,1)"
   ]
  },
  {
   "cell_type": "code",
   "execution_count": 95,
   "metadata": {},
   "outputs": [
    {
     "data": {
      "text/plain": [
       "array([ 0.15256634,  0.20722772,  0.27473069,  0.27336535,  0.0921099 ])"
      ]
     },
     "execution_count": 95,
     "metadata": {},
     "output_type": "execute_result"
    }
   ],
   "source": [
    "chain1.Nstationary_distribution()"
   ]
  },
  {
   "cell_type": "code",
   "execution_count": 96,
   "metadata": {},
   "outputs": [
    {
     "data": {
      "text/plain": [
       "array([ 0.15137615,  0.20642202,  0.27522936,  0.27522936,  0.09174312])"
      ]
     },
     "execution_count": 96,
     "metadata": {},
     "output_type": "execute_result"
    }
   ],
   "source": [
    "chain0.stationary_distribution()"
   ]
  },
  {
   "cell_type": "markdown",
   "metadata": {},
   "source": [
    "As you can see, those results are quite similar"
   ]
  },
  {
   "cell_type": "code",
   "execution_count": 126,
   "metadata": {},
   "outputs": [
    {
     "name": "stdout",
     "output_type": "stream",
     "text": [
      "WARNING, THIS METHOD WILL RESET THE STARTING STATE OF THE NDFMC CLASS\n"
     ]
    },
    {
     "data": {
      "text/plain": [
       "4.3639999999999999"
      ]
     },
     "execution_count": 126,
     "metadata": {},
     "output_type": "execute_result"
    }
   ],
   "source": [
    "chain1.NHitting_time(3,4)"
   ]
  },
  {
   "cell_type": "code",
   "execution_count": 123,
   "metadata": {},
   "outputs": [
    {
     "name": "stdout",
     "output_type": "stream",
     "text": [
      "The average number of steps needed to go from state i to state j is:\n"
     ]
    },
    {
     "data": {
      "text/plain": [
       "4.299999999999999"
      ]
     },
     "execution_count": 123,
     "metadata": {},
     "output_type": "execute_result"
    }
   ],
   "source": [
    "chain0.steps_from_state_i_to_state_j(3,4)"
   ]
  },
  {
   "cell_type": "markdown",
   "metadata": {},
   "source": [
    "And as you can see, those two results are similar. "
   ]
  },
  {
   "cell_type": "code",
   "execution_count": null,
   "metadata": {
    "collapsed": true
   },
   "outputs": [],
   "source": []
  }
 ],
 "metadata": {
  "kernelspec": {
   "display_name": "Python 3",
   "language": "python",
   "name": "python3"
  },
  "language_info": {
   "codemirror_mode": {
    "name": "ipython",
    "version": 3
   },
   "file_extension": ".py",
   "mimetype": "text/x-python",
   "name": "python",
   "nbconvert_exporter": "python",
   "pygments_lexer": "ipython3",
   "version": "3.6.3"
  }
 },
 "nbformat": 4,
 "nbformat_minor": 2
}

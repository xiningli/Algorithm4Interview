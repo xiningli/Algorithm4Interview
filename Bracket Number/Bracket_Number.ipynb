{
 "cells": [
  {
   "cell_type": "code",
   "execution_count": 1,
   "metadata": {},
   "outputs": [
    {
     "name": "stdout",
     "output_type": "stream",
     "text": [
      "[  58.07738095 -373.32738095  455.875     ]\n"
     ]
    },
    {
     "data": {
      "text/plain": [
       "[<matplotlib.lines.Line2D at 0x1a25ac5ffd0>]"
      ]
     },
     "execution_count": 1,
     "metadata": {},
     "output_type": "execute_result"
    },
    {
     "data": {
      "image/png": "[encoded data removed]",
      "text/plain": [
       "<matplotlib.figure.Figure at 0x1a259b7cc18>"
      ]
     },
     "metadata": {},
     "output_type": "display_data"
    }
   ],
   "source": [
    "def dec_to_bin_string(n):\n",
    "    bin_list=[]\n",
    "    for i in range(2,len(list(bin(n)))):\n",
    "        bin_list.append(list(bin(n))[i])\n",
    "    return ''.join(bin_list)\n",
    "\n",
    "def all_n_digit_bin(n):\n",
    "    dec_eq=0\n",
    "    all_bin=[]\n",
    "    while (len(dec_to_bin_string(dec_eq))<=n):\n",
    "        if (len(dec_to_bin_string(dec_eq))==n):\n",
    "            all_bin.append(dec_to_bin_string(dec_eq))\n",
    "        dec_eq = dec_eq+1\n",
    "    return all_bin\n",
    "\n",
    "def Q_valid_bracket(bin_string):\n",
    "    if bin_string[0]!='1':\n",
    "        return False\n",
    "    #replace_0_by_neg1\n",
    "    bin_list=list(bin_string)\n",
    "    zero2n1_arr =[]\n",
    "    for ticker in bin_list:\n",
    "        if ticker == '1':\n",
    "            zero2n1_arr.append(1)\n",
    "        if ticker == '0':\n",
    "            zero2n1_arr.append(-1)\n",
    "    summation = 0\n",
    "    for ticker in zero2n1_arr:\n",
    "        summation = summation + ticker\n",
    "        if summation<0: return False\n",
    "    if summation != 0: \n",
    "        return False\n",
    "    else: return True\n",
    "\n",
    "def nb_valid_in_size_n_pair(n):\n",
    "    return sum(list(map(Q_valid_bracket,all_n_digit_bin(2*n))))\n",
    "\n",
    "%matplotlib inline\n",
    "import numpy as np\n",
    "from matplotlib import pyplot as plt\n",
    "x=np.arange(1,9)\n",
    "f_subs = lambda t: nb_valid_in_size_n_pair(t)\n",
    "vfunc = np.vectorize(f_subs)\n",
    "y=vfunc(x)\n",
    "print(np.polyfit(x,y,2))\n",
    "plt.plot(x,y)\n"
   ]
  },
  {
   "cell_type": "code",
   "execution_count": 2,
   "metadata": {},
   "outputs": [
    {
     "data": {
      "text/plain": [
       "array([1, 2, 3, 4, 5, 6, 7, 8])"
      ]
     },
     "execution_count": 2,
     "metadata": {},
     "output_type": "execute_result"
    }
   ],
   "source": [
    "x"
   ]
  },
  {
   "cell_type": "code",
   "execution_count": 3,
   "metadata": {},
   "outputs": [
    {
     "data": {
      "text/plain": [
       "array([   1,    2,    5,   14,   42,  132,  429, 1430])"
      ]
     },
     "execution_count": 3,
     "metadata": {},
     "output_type": "execute_result"
    }
   ],
   "source": [
    "y"
   ]
  },
  {
   "cell_type": "markdown",
   "metadata": {},
   "source": [
    "# Catalan Number"
   ]
  },
  {
   "cell_type": "markdown",
   "metadata": {},
   "source": [
    "The Catalan numbers on nonnegative integers $n$ are a set of numbers that arise in tree enumeration problems of the type, \"In how many ways can a regular n-gon be divided into n-2 triangles if different orientations are counted separately?\" (Euler's polygon division problem). The solution is the Catalan number $C_{(n-2)}$ "
   ]
  },
  {
   "cell_type": "code",
   "execution_count": null,
   "metadata": {
    "collapsed": true
   },
   "outputs": [],
   "source": []
  }
 ],
 "metadata": {
  "kernelspec": {
   "display_name": "Python 3",
   "language": "python",
   "name": "python3"
  },
  "language_info": {
   "codemirror_mode": {
    "name": "ipython",
    "version": 3
   },
   "file_extension": ".py",
   "mimetype": "text/x-python",
   "name": "python",
   "nbconvert_exporter": "python",
   "pygments_lexer": "ipython3",
   "version": "3.6.3"
  }
 },
 "nbformat": 4,
 "nbformat_minor": 2
}

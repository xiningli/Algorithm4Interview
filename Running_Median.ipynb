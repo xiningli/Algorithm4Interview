{
 "cells": [
  {
   "cell_type": "code",
   "execution_count": 36,
   "metadata": {},
   "outputs": [
    {
     "name": "stdout",
     "output_type": "stream",
     "text": [
      "1\n",
      "1.0\n",
      "4\n",
      "2.5\n",
      "9\n",
      "4.0\n",
      "2\n",
      "3.0\n",
      "3\n",
      "3.0\n",
      "7\n",
      "3.5\n",
      "6\n",
      "4.0\n",
      "5\n",
      "4.5\n",
      "8\n",
      "5.0\n",
      "8\n",
      "5.5\n",
      "9\n",
      "6.0\n",
      "7\n",
      "6.5\n",
      "1\n",
      "6.0\n",
      "0\n",
      "5.5\n",
      "4\n",
      "5.0\n"
     ]
    }
   ],
   "source": [
    "a = [1, 4, 9, 2, 3, 7, 6, 5, 8, 8, 9, 7, 1, 0, 4]\n",
    "\n",
    "import bisect \n",
    "def pseu_median(a):\n",
    "    if len(a)%2==0:\n",
    "        l=a[len(a)//2];r=a[(len(a)//2)-1]\n",
    "        med=(l+r)/2.0\n",
    "        \n",
    "    elif len(a)%2 !=0:\n",
    "        med=a[len(a)//2]\n",
    "    return med\n",
    "\n",
    "a_part = []\n",
    "for tick in a:\n",
    "    print(tick)\n",
    "    bisect.insort(a_part, tick)\n",
    "    print(pseu_median(a_part)*1.0)"
   ]
  },
  {
   "cell_type": "code",
   "execution_count": 2,
   "metadata": {},
   "outputs": [
    {
     "name": "stdout",
     "output_type": "stream",
     "text": [
      "1\n",
      "4\n",
      "9\n",
      "2\n",
      "3\n",
      "7\n",
      "6\n",
      "5\n",
      "8\n",
      "8\n",
      "9\n",
      "7\n",
      "1\n",
      "0\n",
      "4\n"
     ]
    }
   ],
   "source": [
    "a = [1, 4, 9, 2, 3, 7, 6, 5, 8, 8, 9, 7, 1, 0, 4]\n",
    "for ticker in a:\n",
    "    print(ticker)"
   ]
  },
  {
   "cell_type": "code",
   "execution_count": 4,
   "metadata": {
    "collapsed": true
   },
   "outputs": [],
   "source": [
    "a = [1, 4, 9, 2, 3, 7, 6, 5, 8, 8, 9, 7, 1, 0, 4]\n"
   ]
  },
  {
   "cell_type": "code",
   "execution_count": 5,
   "metadata": {
    "collapsed": true
   },
   "outputs": [],
   "source": [
    "a=[1,2,3]"
   ]
  },
  {
   "cell_type": "code",
   "execution_count": 31,
   "metadata": {
    "collapsed": true
   },
   "outputs": [],
   "source": [
    "a=[]"
   ]
  },
  {
   "cell_type": "code",
   "execution_count": 32,
   "metadata": {
    "collapsed": true
   },
   "outputs": [],
   "source": [
    "a=bisect.insort(a,2)"
   ]
  },
  {
   "cell_type": "code",
   "execution_count": 33,
   "metadata": {
    "collapsed": true
   },
   "outputs": [],
   "source": [
    "a"
   ]
  },
  {
   "cell_type": "code",
   "execution_count": null,
   "metadata": {
    "collapsed": true
   },
   "outputs": [],
   "source": []
  }
 ],
 "metadata": {
  "kernelspec": {
   "display_name": "Python 3",
   "language": "python",
   "name": "python3"
  },
  "language_info": {
   "codemirror_mode": {
    "name": "ipython",
    "version": 3
   },
   "file_extension": ".py",
   "mimetype": "text/x-python",
   "name": "python",
   "nbconvert_exporter": "python",
   "pygments_lexer": "ipython3",
   "version": "3.6.3"
  }
 },
 "nbformat": 4,
 "nbformat_minor": 2
}

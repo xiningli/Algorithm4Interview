{
 "cells": [
  {
   "cell_type": "code",
   "execution_count": 78,
   "metadata": {
    "collapsed": true
   },
   "outputs": [],
   "source": [
    "a = [1, 4, 9, 2, 3, 7, 6, 5, 8, 8, 9, 7, 1, 0, 4]"
   ]
  },
  {
   "cell_type": "code",
   "execution_count": 112,
   "metadata": {
    "collapsed": true
   },
   "outputs": [],
   "source": [
    "import numpy as np\n",
    "class Heap_Min:\n",
    "    def __init__(self):\n",
    "        self.min_heap = []\n",
    "    \n",
    "    def _get_parent_index(self,current_index):\n",
    "        return int(np.ceil( current_index/2.0 ))-1\n",
    "    \n",
    "    def _get_children_index(self,current_index):\n",
    "        size = len(self.min_heap)\n",
    "        potential_left_index = (current_index+1)*2-1\n",
    "        if potential_left_index >size-1:\n",
    "            left_c_index = None\n",
    "            right_c_index = None\n",
    "            \n",
    "        else:\n",
    "            left_c_index = potential_left_index\n",
    "            if potential_left_index+1<=size-1:\n",
    "                right_c_index = potential_left_index+1\n",
    "            else:\n",
    "                right_c_index = None\n",
    "                \n",
    "            \n",
    "        return (left_c_index,right_c_index)\n",
    "            \n",
    "        \n",
    "    \n",
    "    def _swap(self):\n",
    "        self.min_heap[self.current_index],self.min_heap[self.parent_index]=self.min_heap[self.parent_index],self.min_heap[self.current_index]    \n",
    "        \n",
    "        self.current_index=self.parent_index\n",
    "        self.parent_index = self._get_parent_index(self.current_index)\n",
    "    \n",
    "        if (self.parent_index>=0) and (self.min_heap[self.current_index]<self.min_heap[self.parent_index]):\n",
    "            self._swap()\n",
    "            \n",
    "    def _swap_pop(self):\n",
    "\n",
    "        if self.left_c_index!=None:\n",
    "            if self.right_c_index==None:\n",
    "                if self.min_heap[self.current_index]>self.min_heap[self.left_c_index]:\n",
    "                    self.min_heap[self.current_index],self.min_heap[self.left_c_index] = self.min_heap[self.left_c_index], self.min_heap[self.current_index]\n",
    "            else:\n",
    "                if self.min_heap[self.current_index]>self.min_heap[self.left_c_index] or self.min_heap[self.current_index]>self.min_heap[self.right_c_index]:  \n",
    "                    if self.min_heap[self.left_c_index]<=self.min_heap[self.right_c_index]:\n",
    "                        \n",
    "                        \n",
    "                        self.min_heap[self.current_index],self.min_heap[self.left_c_index]=self.min_heap[self.left_c_index],self.min_heap[self.current_index]\n",
    "                        self.current_index = self.left_c_index\n",
    "                        self.left_c_index,self.right_c_index = self._get_children_index(self.current_index)\n",
    "                        self._swap_pop()\n",
    "                    else:\n",
    "                        self.min_heap[self.current_index],self.min_heap[self.right_c_index]=self.min_heap[self.right_c_index],self.min_heap[self.current_index]\n",
    "                        self.current_index = self.right_c_index\n",
    "                        self.left_c_index,self.right_c_index = self._get_children_index(self.current_index)\n",
    "                        self._swap_pop()\n",
    "            \n",
    "    def push(self,num):\n",
    "        self.min_heap.append(num)\n",
    "        #may be able to improve this part of the code\n",
    "        if len(self.min_heap)>0:\n",
    "            self.current_index = len(self.min_heap)-1\n",
    "            self.parent_index = self._get_parent_index(self.current_index)\n",
    "            if num<self.min_heap[self.parent_index]:\n",
    "                self._swap()\n",
    "    def pop(self):\n",
    "        self.min_heap[0],self.min_heap[-1] = self.min_heap[-1],self.min_heap[0]\n",
    "        self.min_heap.pop()\n",
    "        self.current_index = 0\n",
    "        \n",
    "        self.left_c_index,self.right_c_index = self._get_children_index(self.current_index)\n",
    "\n",
    "        self._swap_pop()"
   ]
  },
  {
   "cell_type": "code",
   "execution_count": 124,
   "metadata": {
    "collapsed": true
   },
   "outputs": [],
   "source": [
    "import numpy as np\n",
    "class Heap_Max:\n",
    "    def __init__(self):\n",
    "        self.max_heap = []\n",
    "    \n",
    "    def _get_parent_index(self,current_index):\n",
    "        return int(np.ceil( current_index/2.0 ))-1\n",
    "    \n",
    "    \n",
    "    def _get_children_index(self,current_index):\n",
    "        size = len(self.max_heap)\n",
    "        potential_left_index = (current_index+1)*2-1\n",
    "        if potential_left_index >size-1:\n",
    "            left_c_index = None\n",
    "            right_c_index = None\n",
    "            \n",
    "        else:\n",
    "            left_c_index = potential_left_index\n",
    "            if potential_left_index+1<=size-1:\n",
    "                right_c_index = potential_left_index+1\n",
    "            else:\n",
    "                right_c_index = None\n",
    "                \n",
    "            \n",
    "        return (left_c_index,right_c_index)\n",
    "            \n",
    "           \n",
    "    \n",
    "    def _swap(self):\n",
    "        self.max_heap[self.current_index],self.max_heap[self.parent_index]=self.max_heap[self.parent_index],self.max_heap[self.current_index]    \n",
    "        \n",
    "        self.current_index=self.parent_index\n",
    "        self.parent_index = self._get_parent_index(self.current_index)\n",
    "    \n",
    "        if (self.parent_index>=0) and (self.max_heap[self.current_index]>self.max_heap[self.parent_index]):\n",
    "            self._swap()\n",
    "            \n",
    "    def _swap_pop(self):\n",
    "\n",
    "        if self.left_c_index!=None:\n",
    "            if self.right_c_index==None:\n",
    "                if self.max_heap[self.current_index]<self.max_heap[self.left_c_index]:\n",
    "                    self.max_heap[self.current_index],self.max_heap[self.left_c_index] = self.max_heap[self.left_c_index], self.max_heap[self.current_index]\n",
    "            else:\n",
    "                if self.max_heap[self.current_index]<self.max_heap[self.left_c_index] or self.max_heap[self.current_index]<self.max_heap[self.right_c_index]:  \n",
    "                    if self.max_heap[self.left_c_index]>=self.max_heap[self.right_c_index]:\n",
    "                        \n",
    "                        \n",
    "                        self.max_heap[self.current_index],self.max_heap[self.left_c_index]=self.max_heap[self.left_c_index],self.max_heap[self.current_index]\n",
    "                        self.current_index = self.left_c_index\n",
    "                        self.left_c_index,self.right_c_index = self._get_children_index(self.current_index)\n",
    "                        self._swap_pop()\n",
    "                    else:\n",
    "                        self.max_heap[self.current_index],self.max_heap[self.right_c_index]=self.max_heap[self.right_c_index],self.max_heap[self.current_index]\n",
    "                        self.current_index = self.right_c_index\n",
    "                        self.left_c_index,self.right_c_index = self._get_children_index(self.current_index)\n",
    "                        self._swap_pop()\n",
    "            \n",
    "    def push(self,num):\n",
    "        self.max_heap.append(num)\n",
    "        if len(self.max_heap)>0:\n",
    "            self.current_index = len(self.max_heap)-1\n",
    "            self.parent_index = self._get_parent_index(self.current_index)\n",
    "            if num>self.max_heap[self.parent_index]:\n",
    "                self._swap()\n",
    "    def pop(self):\n",
    "        self.max_heap[0],self.max_heap[-1] = self.max_heap[-1],self.max_heap[0]\n",
    "        self.max_heap.pop()\n",
    "        self.current_index = 0\n",
    "        \n",
    "        self.left_c_index,self.right_c_index = self._get_children_index(self.current_index)\n",
    "\n",
    "        self._swap_pop()"
   ]
  },
  {
   "cell_type": "code",
   "execution_count": 125,
   "metadata": {
    "collapsed": true
   },
   "outputs": [],
   "source": [
    "a=Heap_Min()\n",
    "mm=Heap_Max()"
   ]
  },
  {
   "cell_type": "code",
   "execution_count": 126,
   "metadata": {},
   "outputs": [],
   "source": [
    "mlist = [35 ,33 ,42, 10, 14, 19, 27, 44, 26, 31]\n",
    "for i in mlist:\n",
    "    mm.push(i)\n",
    "    a.push(i)"
   ]
  },
  {
   "cell_type": "code",
   "execution_count": 127,
   "metadata": {},
   "outputs": [
    {
     "data": {
      "text/plain": [
       "[10, 14, 19, 26, 31, 42, 27, 44, 35, 33]"
      ]
     },
     "execution_count": 127,
     "metadata": {},
     "output_type": "execute_result"
    }
   ],
   "source": [
    "a.min_heap"
   ]
  },
  {
   "cell_type": "code",
   "execution_count": 102,
   "metadata": {
    "collapsed": true
   },
   "outputs": [],
   "source": [
    "#a.push(3)"
   ]
  },
  {
   "cell_type": "code",
   "execution_count": 103,
   "metadata": {},
   "outputs": [
    {
     "data": {
      "text/plain": [
       "[8,\n",
       " 10,\n",
       " 9,\n",
       " 11,\n",
       " 14,\n",
       " 10,\n",
       " 12,\n",
       " 13,\n",
       " 16,\n",
       " 14,\n",
       " 31,\n",
       " 42,\n",
       " 19,\n",
       " 27,\n",
       " 15,\n",
       " 44,\n",
       " 26,\n",
       " 35,\n",
       " 19,\n",
       " 33,\n",
       " 17]"
      ]
     },
     "execution_count": 103,
     "metadata": {},
     "output_type": "execute_result"
    }
   ],
   "source": [
    "a.min_heap"
   ]
  },
  {
   "cell_type": "code",
   "execution_count": 104,
   "metadata": {
    "collapsed": true
   },
   "outputs": [],
   "source": [
    "a.pop()"
   ]
  },
  {
   "cell_type": "code",
   "execution_count": 63,
   "metadata": {},
   "outputs": [
    {
     "data": {
      "text/plain": [
       "[9, 12, 10, 15, 14, 11, 13, 16, 19, 17]"
      ]
     },
     "execution_count": 63,
     "metadata": {},
     "output_type": "execute_result"
    }
   ],
   "source": [
    "a.min_heap"
   ]
  },
  {
   "cell_type": "code",
   "execution_count": 64,
   "metadata": {},
   "outputs": [
    {
     "data": {
      "text/plain": [
       "[9, 12, 10, 15, 14, 11, 13, 16, 19, 17]"
      ]
     },
     "execution_count": 64,
     "metadata": {},
     "output_type": "execute_result"
    }
   ],
   "source": [
    "a.min_heap"
   ]
  },
  {
   "cell_type": "code",
   "execution_count": 65,
   "metadata": {
    "collapsed": true
   },
   "outputs": [],
   "source": [
    "mm =Heap_Max()\n",
    "a=Heap_Min()"
   ]
  },
  {
   "cell_type": "code",
   "execution_count": 66,
   "metadata": {},
   "outputs": [],
   "source": [
    "mlist = [35 ,33 ,42, 10, 14, 19, 27, 44, 26, 31]"
   ]
  },
  {
   "cell_type": "code",
   "execution_count": 67,
   "metadata": {},
   "outputs": [
    {
     "name": "stdout",
     "output_type": "stream",
     "text": [
      "[35, 33]\n",
      "[33, 35, 42, 10]\n",
      "[33, 10, 42, 35]\n",
      "[10, 33, 42, 35, 14]\n",
      "[10, 14, 42, 35, 33, 19]\n",
      "[10, 14, 19, 35, 33, 42, 27, 44, 26]\n",
      "[10, 14, 19, 26, 33, 42, 27, 44, 35, 31]\n"
     ]
    }
   ],
   "source": [
    "for i in mlist:\n",
    "    mm.push(i)\n",
    "    a.push(i)"
   ]
  },
  {
   "cell_type": "code",
   "execution_count": 68,
   "metadata": {},
   "outputs": [
    {
     "data": {
      "text/plain": [
       "[44, 42, 35, 33, 31, 19, 27, 10, 26, 14]"
      ]
     },
     "execution_count": 68,
     "metadata": {},
     "output_type": "execute_result"
    }
   ],
   "source": [
    "mm.max_heap"
   ]
  },
  {
   "cell_type": "code",
   "execution_count": 69,
   "metadata": {},
   "outputs": [
    {
     "data": {
      "text/plain": [
       "[10, 14, 19, 26, 31, 42, 27, 44, 35, 33]"
      ]
     },
     "execution_count": 69,
     "metadata": {},
     "output_type": "execute_result"
    }
   ],
   "source": [
    "a.min_heap"
   ]
  },
  {
   "cell_type": "code",
   "execution_count": 70,
   "metadata": {
    "collapsed": true
   },
   "outputs": [],
   "source": [
    "mm.pop()"
   ]
  },
  {
   "cell_type": "code",
   "execution_count": 411,
   "metadata": {},
   "outputs": [
    {
     "data": {
      "text/plain": [
       "[42, 33, 35, 26, 31, 19, 27, 10, 14]"
      ]
     },
     "execution_count": 411,
     "metadata": {},
     "output_type": "execute_result"
    }
   ],
   "source": [
    "mm.max_heap"
   ]
  },
  {
   "cell_type": "code",
   "execution_count": 412,
   "metadata": {
    "collapsed": true
   },
   "outputs": [],
   "source": [
    "import math"
   ]
  },
  {
   "cell_type": "code",
   "execution_count": 413,
   "metadata": {},
   "outputs": [
    {
     "data": {
      "text/plain": [
       "10"
      ]
     },
     "execution_count": 413,
     "metadata": {},
     "output_type": "execute_result"
    }
   ],
   "source": [
    "math.ceil(9.5)"
   ]
  },
  {
   "cell_type": "code",
   "execution_count": null,
   "metadata": {
    "collapsed": true
   },
   "outputs": [],
   "source": []
  },
  {
   "cell_type": "code",
   "execution_count": null,
   "metadata": {
    "collapsed": true
   },
   "outputs": [],
   "source": [
    "a = []\n",
    "n=10\n",
    "heap_min =Heap_Min()\n",
    "heap_max =Heap_Max()\n",
    "current_median = 0\n",
    "\n",
    "\n",
    "for _ in range(n):\n",
    "    a_item = int(input())\n",
    "    a.append(a_item)\n",
    "    if len(a)==1:\n",
    "        heap_min.push(a_item)\n",
    "        current_median = a_item\n",
    "        print(current_median*1.0)\n",
    "    else:\n",
    "        if a_item<current_median:\n",
    "            heap_max.push(a_item)\n",
    "        else:\n",
    "            heap_min.push(a_item)\n",
    "        if len(heap_min.min_heap)>len(heap_max.max_heap)+1:\n",
    "            tmp = heap_min.min_heap[0]\n",
    "            heap_min.pop()\n",
    "            heap_max.push(tmp)\n",
    "        if len(heap_max.max_heap)>len(heap_min.min_heap)+1:\n",
    "            tmp = heap_max.max_heap[0]\n",
    "            heap_max.pop()\n",
    "            heap_min.push(tmp)\n",
    "        \n",
    "            \n",
    "        print(heap_min.min_heap)\n",
    "        print(heap_max.max_heap)\n",
    "            \n",
    "        if len(heap_min.min_heap) == len(heap_max.max_heap):\n",
    "            current_median =  (heap_min.min_heap[0]+heap_max.max_heap[0])/2.0\n",
    "            print(current_median)\n",
    "        else:\n",
    "            if len(heap_min.min_heap)>len(heap_max.max_heap):\n",
    "                current_median = heap_min.min_heap[0]*1.0\n",
    "                print(current_median)\n",
    "            else:\n",
    "                current_median = heap_max.max_heap[0]*1.0\n",
    "                print(current_median)\n",
    "\n"
   ]
  },
  {
   "cell_type": "markdown",
   "metadata": {},
   "source": [
    "### 3\n",
    "1\n",
    "# 1\n",
    "3\n",
    "\n",
    "3### a"
   ]
  },
  {
   "cell_type": "code",
   "execution_count": 418,
   "metadata": {},
   "outputs": [
    {
     "data": {
      "text/plain": [
       "-inf"
      ]
     },
     "execution_count": 418,
     "metadata": {},
     "output_type": "execute_result"
    }
   ],
   "source": [
    "-math.inf"
   ]
  },
  {
   "cell_type": "code",
   "execution_count": null,
   "metadata": {
    "collapsed": true
   },
   "outputs": [],
   "source": []
  }
 ],
 "metadata": {
  "kernelspec": {
   "display_name": "Python 3",
   "language": "python",
   "name": "python3"
  },
  "language_info": {
   "codemirror_mode": {
    "name": "ipython",
    "version": 3
   },
   "file_extension": ".py",
   "mimetype": "text/x-python",
   "name": "python",
   "nbconvert_exporter": "python",
   "pygments_lexer": "ipython3",
   "version": "3.6.3"
  }
 },
 "nbformat": 4,
 "nbformat_minor": 2
}

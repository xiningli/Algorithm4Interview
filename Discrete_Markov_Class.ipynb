{
 "cells": [
  {
   "cell_type": "code",
   "execution_count": 2,
   "metadata": {
    "collapsed": true
   },
   "outputs": [],
   "source": [
    "import numpy as np\n",
    "import scipy.linalg as LA\n",
    "\n",
    "\n",
    "class finite_discrete_markov_chain():\n",
    "    def __init__(self, tr):\n",
    "        if str(type(tr))!=\"<class 'numpy.matrixlib.defmatrix.matrix'>\":\n",
    "            print(\"Error: Please enter a numpy matrix class\")\n",
    "            return None\n",
    "        if len(tr)!=len(np.squeeze(np.asarray(tr[0]))): \n",
    "            print(\"Error: transition matrix is not shape NxN\")\n",
    "            return None\n",
    "        \n",
    "        for ticker in range(len(tr)):\n",
    "            if abs(sum(np.squeeze(np.asarray(tran_mat))[ticker])-1)>0.00001:\n",
    "                print(\"Error: total transition on a state not equal to 1\")\n",
    "                return None\n",
    "        self.transition_matrix = tr\n",
    "        self.number_of_states = len(tr)\n",
    "        \n",
    "    def Q_absorbing_state(self):\n",
    "        absorbing_states = []\n",
    "        for ticker in range(self.number_of_states):\n",
    "            if self.transition_matrix[ticker,ticker] ==1: absorbing_states.append(ticker)\n",
    "\n",
    "        if len(absorbing_states)>0: \n",
    "            print(\"The following are absorbing states\")\n",
    "            print(absorbing_states)\n",
    "            return True\n",
    "        else: return False\n",
    "    \n",
    "    def stationary_distribution(self):\n",
    "        if self.Q_absorbing_state()==True:\n",
    "            return \"Therefore, non-absorbing states have no distributions\"\n",
    "        else:\n",
    "            Q= np.transpose(self.transition_matrix)-np.identity(self.number_of_states)\n",
    "            Before_LA = np.column_stack([Q, np.zeros(self.number_of_states)])\n",
    "            Before_LA=np.row_stack([Before_LA, np.ones(self.number_of_states+1)])\n",
    "            a = Before_LA[:,np.arange(0,self.number_of_states)]\n",
    "            b = Before_LA[:,-1]\n",
    "            return LA.solve(np.squeeze(np.asarray(a[1:len(a)+1])),\n",
    "                            np.squeeze(np.asarray(b[1:len(b)+1])))\n",
    "\n",
    "    def steps_from_state_i_to_state_j(self,state_i, state_j):\n",
    "        if self.Q_absorbing_state()==True:\n",
    "            return \"You might want to consider the function: time to absorption. \"\n",
    "        else:\n",
    "            print(\"The average number of steps needed to go from state i to state j is:\")            \n",
    "            if state_i==state_j:\n",
    "                return 0\n",
    "            \n",
    "            PT = np.delete(self.transition_matrix,state_j,0)\n",
    "            PT = np.delete(PT,state_j,1)\n",
    "            \n",
    "            return np.matmul(\n",
    "                np.linalg.inv(np.eye(self.number_of_states-1)- PT),\n",
    "                np.transpose(np.matrix(np.ones(self.number_of_states-1)))\n",
    "            )[state_i-((state_j<state_i))].item(0)"
   ]
  },
  {
   "cell_type": "code",
   "execution_count": 3,
   "metadata": {
    "collapsed": true
   },
   "outputs": [],
   "source": [
    "tran_mat = np.matrix([[1/6, 5/6,0,0,0], \n",
    "                      [1/6, 1/6, 4/6, 0,0],\n",
    "                      [0,1/6,2/6,3/6,0],\n",
    "                      [0,0,1/6,3/6,2/6],\n",
    "                      [1,0,0,0,0]\n",
    "                     ])"
   ]
  },
  {
   "cell_type": "code",
   "execution_count": 4,
   "metadata": {
    "collapsed": true
   },
   "outputs": [],
   "source": [
    "chain1 = finite_discrete_markov_chain(tran_mat)"
   ]
  },
  {
   "cell_type": "code",
   "execution_count": 5,
   "metadata": {},
   "outputs": [
    {
     "data": {
      "text/plain": [
       "matrix([[ 0.16666667,  0.83333333,  0.        ,  0.        ,  0.        ],\n",
       "        [ 0.16666667,  0.16666667,  0.66666667,  0.        ,  0.        ],\n",
       "        [ 0.        ,  0.16666667,  0.33333333,  0.5       ,  0.        ],\n",
       "        [ 0.        ,  0.        ,  0.16666667,  0.5       ,  0.33333333],\n",
       "        [ 1.        ,  0.        ,  0.        ,  0.        ,  0.        ]])"
      ]
     },
     "execution_count": 5,
     "metadata": {},
     "output_type": "execute_result"
    }
   ],
   "source": [
    "chain1.transition_matrix "
   ]
  },
  {
   "cell_type": "code",
   "execution_count": 286,
   "metadata": {},
   "outputs": [
    {
     "data": {
      "text/plain": [
       "False"
      ]
     },
     "execution_count": 286,
     "metadata": {},
     "output_type": "execute_result"
    }
   ],
   "source": [
    "chain1.Q_absorbing_state()"
   ]
  },
  {
   "cell_type": "code",
   "execution_count": 287,
   "metadata": {},
   "outputs": [
    {
     "data": {
      "text/plain": [
       "array([ 0.15137615,  0.20642202,  0.27522936,  0.27522936,  0.09174312])"
      ]
     },
     "execution_count": 287,
     "metadata": {},
     "output_type": "execute_result"
    }
   ],
   "source": [
    "chain1.stationary_distribution()"
   ]
  },
  {
   "cell_type": "code",
   "execution_count": 293,
   "metadata": {},
   "outputs": [
    {
     "name": "stdout",
     "output_type": "stream",
     "text": [
      "The average number of steps needed to go from state i to state j is:\n"
     ]
    },
    {
     "data": {
      "text/plain": [
       "4.299999999999999"
      ]
     },
     "execution_count": 293,
     "metadata": {},
     "output_type": "execute_result"
    }
   ],
   "source": [
    "chain1.steps_from_state_i_to_state_j(3,4)"
   ]
  },
  {
   "cell_type": "code",
   "execution_count": 289,
   "metadata": {
    "collapsed": true
   },
   "outputs": [],
   "source": [
    "p_mat =  np.matrix([[0.8,0.2,0], \n",
    "                      [0.1,0.4,0.5],\n",
    "                      [0.2,0.05,0.75]\n",
    "                     ])"
   ]
  },
  {
   "cell_type": "code",
   "execution_count": 7,
   "metadata": {},
   "outputs": [
    {
     "ename": "NameError",
     "evalue": "name 'L' is not defined",
     "output_type": "error",
     "traceback": [
      "\u001b[1;31m---------------------------------------------------------------------------\u001b[0m",
      "\u001b[1;31mNameError\u001b[0m                                 Traceback (most recent call last)",
      "\u001b[1;32m<ipython-input-7-3221b1d488fc>\u001b[0m in \u001b[0;36m<module>\u001b[1;34m()\u001b[0m\n\u001b[0;32m      1\u001b[0m \u001b[1;32mimport\u001b[0m \u001b[0mfunctools\u001b[0m\u001b[1;33m\u001b[0m\u001b[0m\n\u001b[1;32m----> 2\u001b[1;33m \u001b[0mfunctools\u001b[0m\u001b[1;33m.\u001b[0m\u001b[0mreduce\u001b[0m\u001b[1;33m(\u001b[0m\u001b[1;32mlambda\u001b[0m \u001b[0mx\u001b[0m\u001b[1;33m,\u001b[0m\u001b[0my\u001b[0m\u001b[1;33m:\u001b[0m \u001b[0mx\u001b[0m\u001b[1;33m+\u001b[0m\u001b[0my\u001b[0m\u001b[1;33m,\u001b[0m \u001b[1;33m[\u001b[0m\u001b[1;36m47\u001b[0m\u001b[1;33m,\u001b[0m\u001b[1;36m11\u001b[0m\u001b[1;33m,\u001b[0m\u001b[1;36m42\u001b[0m\u001b[1;33m,\u001b[0m\u001b[1;36m13\u001b[0m\u001b[1;33m]\u001b[0m\u001b[1;33m,\u001b[0m\u001b[0mL\u001b[0m\u001b[1;33m)\u001b[0m\u001b[1;33m\u001b[0m\u001b[0m\n\u001b[0m",
      "\u001b[1;31mNameError\u001b[0m: name 'L' is not defined"
     ]
    }
   ],
   "source": [
    "import functools\n",
    "functools.reduce(lambda x,y: x+y, [47,11,42,13],L)"
   ]
  },
  {
   "cell_type": "code",
   "execution_count": 5,
   "metadata": {},
   "outputs": [],
   "source": [
    "tmp = []\n",
    "for i in [47,11,42,13]:\n",
    "    if len(tmp)==0:\n",
    "        tmp=[i]\n",
    "        continue\n",
    "    tmp.append(i+tmp[-1])"
   ]
  },
  {
   "cell_type": "code",
   "execution_count": 6,
   "metadata": {},
   "outputs": [
    {
     "data": {
      "text/plain": [
       "[47, 58, 100, 113]"
      ]
     },
     "execution_count": 6,
     "metadata": {},
     "output_type": "execute_result"
    }
   ],
   "source": [
    "tmp"
   ]
  },
  {
   "cell_type": "code",
   "execution_count": null,
   "metadata": {
    "collapsed": true
   },
   "outputs": [],
   "source": []
  }
 ],
 "metadata": {
  "kernelspec": {
   "display_name": "Python 3",
   "language": "python",
   "name": "python3"
  },
  "language_info": {
   "codemirror_mode": {
    "name": "ipython",
    "version": 3
   },
   "file_extension": ".py",
   "mimetype": "text/x-python",
   "name": "python",
   "nbconvert_exporter": "python",
   "pygments_lexer": "ipython3",
   "version": "3.6.3"
  }
 },
 "nbformat": 4,
 "nbformat_minor": 2
}

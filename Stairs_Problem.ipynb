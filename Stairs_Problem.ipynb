{
 "cells": [
  {
   "cell_type": "code",
   "execution_count": 129,
   "metadata": {
    "collapsed": true
   },
   "outputs": [],
   "source": [
    "del pre_load\n",
    "pre_load = {} \n",
    "def single(n):\n",
    "    if n <=3:\n",
    "        return 2**(n-1)\n",
    "    pre_load.update({n:(single(n-3)+single(n-2)+single(n-1))})\n",
    "    return pre_load.get(n)"
   ]
  },
  {
   "cell_type": "markdown",
   "metadata": {},
   "source": [
    "here is another solution"
   ]
  },
  {
   "cell_type": "code",
   "execution_count": 90,
   "metadata": {
    "collapsed": true
   },
   "outputs": [],
   "source": [
    "def single2(n):\n",
    "    return round((complex(0.19079003884030374,0.018700583111739846)*\\\n",
    "    complex(-0.4196433776070806, -0.6062907292071994)**n+\\\n",
    "    complex(0.19079003884030374,-0.018700583111739846)*\\\n",
    "    complex(-0.4196433776070806, 0.6062907292071994)**n+\\\n",
    "    0.6184199223193926*1.8392867552141612**n).real)"
   ]
  },
  {
   "cell_type": "code",
   "execution_count": 222,
   "metadata": {
    "collapsed": true
   },
   "outputs": [],
   "source": [
    "def sn(s,n):\n",
    "    #initialize the initial condition for nth \n",
    "    #order linear recursion\n",
    "    pre_load = {} \n",
    "    for j in range(1,(s+1)):\n",
    "        pre_load.update({j:2**(j-1)})\n",
    "    \n",
    "    def singles(pre_l,s,n):\n",
    "        temp = 0\n",
    "        if n in pre_l: \n",
    "            return pre_l.get(n)\n",
    "        for j in reversed(range(1,(s+1))):\n",
    "            temp+=singles(pre_l,s,n-j)\n",
    "        pre_l.update({n:temp})\n",
    "        return temp\n",
    "    return singles(pre_load,s,n)"
   ]
  },
  {
   "cell_type": "code",
   "execution_count": 223,
   "metadata": {},
   "outputs": [
    {
     "name": "stdout",
     "output_type": "stream",
     "text": [
      "3\n",
      "2\n",
      "1\n"
     ]
    }
   ],
   "source": [
    "for j in reversed(range(1,(3+1))):\n",
    "    print(j)"
   ]
  },
  {
   "cell_type": "code",
   "execution_count": 225,
   "metadata": {},
   "outputs": [
    {
     "data": {
      "text/plain": [
       "573147844013817084101"
      ]
     },
     "execution_count": 225,
     "metadata": {},
     "output_type": "execute_result"
    }
   ],
   "source": [
    "sn(2,100)"
   ]
  },
  {
   "cell_type": "code",
   "execution_count": 189,
   "metadata": {},
   "outputs": [
    {
     "data": {
      "text/plain": [
       "274"
      ]
     },
     "execution_count": 189,
     "metadata": {},
     "output_type": "execute_result"
    }
   ],
   "source": [
    "single(10)"
   ]
  },
  {
   "cell_type": "code",
   "execution_count": 175,
   "metadata": {},
   "outputs": [
    {
     "data": {
      "text/plain": [
       "{1: 1, 2: 2, 3: 4, 4: 7, 5: 13, 6: 24, 7: 44, 8: 81, 9: 149, 10: 274}"
      ]
     },
     "execution_count": 175,
     "metadata": {},
     "output_type": "execute_result"
    }
   ],
   "source": [
    "pre_load"
   ]
  },
  {
   "cell_type": "code",
   "execution_count": null,
   "metadata": {
    "collapsed": true
   },
   "outputs": [],
   "source": [
    "4\n",
    "1  4\n",
    "2  1-3    2-2     3-1\n",
    "3  1-1-2  1-2-1  2-1-1\n",
    "4  1-1-1-1\n",
    "\n",
    "5 \n",
    "1   5\n",
    "2   1-4       2-3     3-2    4-1\n",
    "3   1-1-3    1-3-1  3-1-1  2-2-1  2-1-2  1-2-2  \n",
    "4   1-1-1-2  1-1-2-1  1-2-1-1  2-1-1-1\n",
    "5   1-1-1-1-1\n",
    "\n",
    "\n",
    "6\n",
    "1    6\n",
    "2    1-5  2-4  3-3   4-2   5-1\n",
    "3    1-1-4  1-4-1  4-1-1   2-2-2   1-2-3  1-3-2  2-1-3  2-3-1\n",
    "\n",
    "3-1-2   3-2-1\n",
    "\n",
    "\n",
    "4    1-1-1-3   1-1-3-1    1-3-1-1  3-1-1-1  1-1-2-2  1-2-1-2\n",
    "\n",
    "1-2-2-1  2-1-2-1   2-1-1-2    2-2-1-1\n",
    "\n",
    "5  *5\n",
    "6"
   ]
  }
 ],
 "metadata": {
  "kernelspec": {
   "display_name": "Python 3",
   "language": "python",
   "name": "python3"
  },
  "language_info": {
   "codemirror_mode": {
    "name": "ipython",
    "version": 3
   },
   "file_extension": ".py",
   "mimetype": "text/x-python",
   "name": "python",
   "nbconvert_exporter": "python",
   "pygments_lexer": "ipython3",
   "version": "3.6.3"
  }
 },
 "nbformat": 4,
 "nbformat_minor": 2
}

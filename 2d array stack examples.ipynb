{
 "cells": [
  {
   "cell_type": "code",
   "execution_count": 1,
   "metadata": {
    "collapsed": true
   },
   "outputs": [],
   "source": [
    "import numpy as np"
   ]
  },
  {
   "cell_type": "code",
   "execution_count": 85,
   "metadata": {},
   "outputs": [],
   "source": [
    "a = np.array([[ 1.,  2.,  3.,  4.,  0.],\n",
    "       [ 0.,  5.,  6.,  7.,  8.],\n",
    "       [ 11.,  0.,  12.,  0.,  13.],\n",
    "       [ 0.,  12.,  0.,  0.,  0.],\n",
    "       [ 0.,  0.,  0.,  90.,  0.]])\n",
    "    "
   ]
  },
  {
   "cell_type": "code",
   "execution_count": 86,
   "metadata": {},
   "outputs": [],
   "source": [
    "b=(np.array([[ -1.,  -2.,  -3.,  -5.,  -9.],\n",
    "       [ -3.,  -6.,  -9.,  0.,  -10.],\n",
    "       [ -13.,  0.,  0.,  0.,  -11.],\n",
    "       [ -15.,  0.,  0.,  0.,  -55.],\n",
    "       [ -5.,  0.,  -6.,  0.,  -4.]]))"
   ]
  },
  {
   "cell_type": "code",
   "execution_count": 148,
   "metadata": {},
   "outputs": [
    {
     "data": {
      "text/plain": [
       "array([[  1.,   2.,   3.,   4.,   0.],\n",
       "       [  0.,   5.,   6.,   7.,   8.],\n",
       "       [ 11.,   0.,  12.,   0.,  13.],\n",
       "       [  0.,  12.,   0.,   0.,   0.],\n",
       "       [  0.,   0.,   0.,  90.,   0.]])"
      ]
     },
     "execution_count": 148,
     "metadata": {},
     "output_type": "execute_result"
    }
   ],
   "source": [
    "a"
   ]
  },
  {
   "cell_type": "code",
   "execution_count": 88,
   "metadata": {},
   "outputs": [
    {
     "data": {
      "text/plain": [
       "array([[ -1.,  -2.,  -3.,  -5.,  -9.],\n",
       "       [ -3.,  -6.,  -9.,   0., -10.],\n",
       "       [-13.,   0.,   0.,   0., -11.],\n",
       "       [-15.,   0.,   0.,   0., -55.],\n",
       "       [ -5.,   0.,  -6.,   0.,  -4.]])"
      ]
     },
     "execution_count": 88,
     "metadata": {},
     "output_type": "execute_result"
    }
   ],
   "source": [
    "b"
   ]
  },
  {
   "cell_type": "code",
   "execution_count": 78,
   "metadata": {},
   "outputs": [],
   "source": [
    "def appen(a,b):\n",
    "    buffer = a\n",
    "    buffer=np.dstack((a,b)).swapaxes(2,0)\n",
    "    if len(a.shape)>2:\n",
    "    \n",
    "        buffer = buffer.swapaxes(2,0)\n",
    "\n",
    "\n",
    "    buffer=np.dstack((a,b)).swapaxes(2,0)\n",
    "    return  buffer"
   ]
  },
  {
   "cell_type": "code",
   "execution_count": 61,
   "metadata": {},
   "outputs": [
    {
     "data": {
      "text/plain": [
       "2"
      ]
     },
     "execution_count": 61,
     "metadata": {},
     "output_type": "execute_result"
    }
   ],
   "source": [
    "len(a.shape)"
   ]
  },
  {
   "cell_type": "code",
   "execution_count": 79,
   "metadata": {},
   "outputs": [
    {
     "ename": "ValueError",
     "evalue": "all the input array dimensions except for the concatenation axis must match exactly",
     "output_type": "error",
     "traceback": [
      "\u001b[1;31m---------------------------------------------------------------------------\u001b[0m",
      "\u001b[1;31mValueError\u001b[0m                                Traceback (most recent call last)",
      "\u001b[1;32m<ipython-input-79-080fe09d7f7c>\u001b[0m in \u001b[0;36m<module>\u001b[1;34m()\u001b[0m\n\u001b[1;32m----> 1\u001b[1;33m \u001b[0mappen\u001b[0m\u001b[1;33m(\u001b[0m\u001b[0mappen\u001b[0m\u001b[1;33m(\u001b[0m\u001b[0ma\u001b[0m\u001b[1;33m,\u001b[0m\u001b[0mb\u001b[0m\u001b[1;33m)\u001b[0m\u001b[1;33m,\u001b[0m\u001b[0mb\u001b[0m\u001b[1;33m)\u001b[0m\u001b[1;33m\u001b[0m\u001b[0m\n\u001b[0m",
      "\u001b[1;32m<ipython-input-78-eb9611b2419b>\u001b[0m in \u001b[0;36mappen\u001b[1;34m(a, b)\u001b[0m\n\u001b[0;32m      1\u001b[0m \u001b[1;32mdef\u001b[0m \u001b[0mappen\u001b[0m\u001b[1;33m(\u001b[0m\u001b[0ma\u001b[0m\u001b[1;33m,\u001b[0m\u001b[0mb\u001b[0m\u001b[1;33m)\u001b[0m\u001b[1;33m:\u001b[0m\u001b[1;33m\u001b[0m\u001b[0m\n\u001b[0;32m      2\u001b[0m     \u001b[0mbuffer\u001b[0m \u001b[1;33m=\u001b[0m \u001b[0ma\u001b[0m\u001b[1;33m\u001b[0m\u001b[0m\n\u001b[1;32m----> 3\u001b[1;33m     \u001b[0mbuffer\u001b[0m\u001b[1;33m=\u001b[0m\u001b[0mnp\u001b[0m\u001b[1;33m.\u001b[0m\u001b[0mdstack\u001b[0m\u001b[1;33m(\u001b[0m\u001b[1;33m(\u001b[0m\u001b[0ma\u001b[0m\u001b[1;33m,\u001b[0m\u001b[0mb\u001b[0m\u001b[1;33m)\u001b[0m\u001b[1;33m)\u001b[0m\u001b[1;33m.\u001b[0m\u001b[0mswapaxes\u001b[0m\u001b[1;33m(\u001b[0m\u001b[1;36m2\u001b[0m\u001b[1;33m,\u001b[0m\u001b[1;36m0\u001b[0m\u001b[1;33m)\u001b[0m\u001b[1;33m\u001b[0m\u001b[0m\n\u001b[0m\u001b[0;32m      4\u001b[0m     \u001b[1;32mif\u001b[0m \u001b[0mlen\u001b[0m\u001b[1;33m(\u001b[0m\u001b[0ma\u001b[0m\u001b[1;33m.\u001b[0m\u001b[0mshape\u001b[0m\u001b[1;33m)\u001b[0m\u001b[1;33m>\u001b[0m\u001b[1;36m2\u001b[0m\u001b[1;33m:\u001b[0m\u001b[1;33m\u001b[0m\u001b[0m\n\u001b[0;32m      5\u001b[0m \u001b[1;33m\u001b[0m\u001b[0m\n",
      "\u001b[1;32m~\\Anaconda3\\lib\\site-packages\\numpy\\lib\\shape_base.py\u001b[0m in \u001b[0;36mdstack\u001b[1;34m(tup)\u001b[0m\n\u001b[0;32m    407\u001b[0m \u001b[1;33m\u001b[0m\u001b[0m\n\u001b[0;32m    408\u001b[0m     \"\"\"\n\u001b[1;32m--> 409\u001b[1;33m     \u001b[1;32mreturn\u001b[0m \u001b[0m_nx\u001b[0m\u001b[1;33m.\u001b[0m\u001b[0mconcatenate\u001b[0m\u001b[1;33m(\u001b[0m\u001b[1;33m[\u001b[0m\u001b[0matleast_3d\u001b[0m\u001b[1;33m(\u001b[0m\u001b[0m_m\u001b[0m\u001b[1;33m)\u001b[0m \u001b[1;32mfor\u001b[0m \u001b[0m_m\u001b[0m \u001b[1;32min\u001b[0m \u001b[0mtup\u001b[0m\u001b[1;33m]\u001b[0m\u001b[1;33m,\u001b[0m \u001b[1;36m2\u001b[0m\u001b[1;33m)\u001b[0m\u001b[1;33m\u001b[0m\u001b[0m\n\u001b[0m\u001b[0;32m    410\u001b[0m \u001b[1;33m\u001b[0m\u001b[0m\n\u001b[0;32m    411\u001b[0m \u001b[1;32mdef\u001b[0m \u001b[0m_replace_zero_by_x_arrays\u001b[0m\u001b[1;33m(\u001b[0m\u001b[0msub_arys\u001b[0m\u001b[1;33m)\u001b[0m\u001b[1;33m:\u001b[0m\u001b[1;33m\u001b[0m\u001b[0m\n",
      "\u001b[1;31mValueError\u001b[0m: all the input array dimensions except for the concatenation axis must match exactly"
     ]
    }
   ],
   "source": [
    "appen(appen(a,b),b)"
   ]
  },
  {
   "cell_type": "code",
   "execution_count": 89,
   "metadata": {},
   "outputs": [
    {
     "data": {
      "text/plain": [
       "array([[[  1.,   0.,  11.,   0.,   0.],\n",
       "        [  2.,   5.,   0.,  12.,   0.],\n",
       "        [  3.,   6.,  12.,   0.,   0.],\n",
       "        [  4.,   7.,   0.,   0.,  90.],\n",
       "        [  0.,   8.,  13.,   0.,   0.]],\n",
       "\n",
       "       [[ -1.,  -3., -13., -15.,  -5.],\n",
       "        [ -2.,  -6.,   0.,   0.,   0.],\n",
       "        [ -3.,  -9.,   0.,   0.,  -6.],\n",
       "        [ -5.,   0.,   0.,   0.,   0.],\n",
       "        [ -9., -10., -11., -55.,  -4.]],\n",
       "\n",
       "       [[ -1.,  -3., -13., -15.,  -5.],\n",
       "        [ -2.,  -6.,   0.,   0.,   0.],\n",
       "        [ -3.,  -9.,   0.,   0.,  -6.],\n",
       "        [ -5.,   0.,   0.,   0.,   0.],\n",
       "        [ -9., -10., -11., -55.,  -4.]]])"
      ]
     },
     "execution_count": 89,
     "metadata": {},
     "output_type": "execute_result"
    }
   ],
   "source": [
    "appen(appen(a,b).swapaxes(2,0),b)"
   ]
  },
  {
   "cell_type": "code",
   "execution_count": 95,
   "metadata": {},
   "outputs": [],
   "source": [
    "c=np.dstack((a.swapaxes(1,0),b.swapaxes(1,0))).swapaxes(2,0)"
   ]
  },
  {
   "cell_type": "code",
   "execution_count": 105,
   "metadata": {},
   "outputs": [
    {
     "data": {
      "text/plain": [
       "array([[[  1.,   2.,   3.,   4.,   0.],\n",
       "        [  0.,   5.,   6.,   7.,   8.],\n",
       "        [ 11.,   0.,  12.,   0.,  13.],\n",
       "        [  0.,  12.,   0.,   0.,   0.],\n",
       "        [  0.,   0.,   0.,  90.,   0.]],\n",
       "\n",
       "       [[ -1.,  -2.,  -3.,  -5.,  -9.],\n",
       "        [ -3.,  -6.,  -9.,   0., -10.],\n",
       "        [-13.,   0.,   0.,   0., -11.],\n",
       "        [-15.,   0.,   0.,   0., -55.],\n",
       "        [ -5.,   0.,  -6.,   0.,  -4.]]])"
      ]
     },
     "execution_count": 105,
     "metadata": {},
     "output_type": "execute_result"
    }
   ],
   "source": [
    "c"
   ]
  },
  {
   "cell_type": "code",
   "execution_count": 132,
   "metadata": {},
   "outputs": [
    {
     "ename": "ValueError",
     "evalue": "all the input array dimensions except for the concatenation axis must match exactly",
     "output_type": "error",
     "traceback": [
      "\u001b[1;31m---------------------------------------------------------------------------\u001b[0m",
      "\u001b[1;31mValueError\u001b[0m                                Traceback (most recent call last)",
      "\u001b[1;32m<ipython-input-132-7032a70013d0>\u001b[0m in \u001b[0;36m<module>\u001b[1;34m()\u001b[0m\n\u001b[1;32m----> 1\u001b[1;33m \u001b[0mnp\u001b[0m\u001b[1;33m.\u001b[0m\u001b[0mvstack\u001b[0m\u001b[1;33m(\u001b[0m\u001b[1;33m(\u001b[0m\u001b[0mc\u001b[0m\u001b[1;33m,\u001b[0m\u001b[0mnp\u001b[0m\u001b[1;33m.\u001b[0m\u001b[0marray\u001b[0m\u001b[1;33m(\u001b[0m\u001b[1;33m[\u001b[0m\u001b[0mb\u001b[0m\u001b[1;33m]\u001b[0m\u001b[1;33m)\u001b[0m\u001b[1;33m)\u001b[0m\u001b[1;33m)\u001b[0m\u001b[1;33m\u001b[0m\u001b[0m\n\u001b[0m",
      "\u001b[1;32m~\\Anaconda3\\lib\\site-packages\\numpy\\core\\shape_base.py\u001b[0m in \u001b[0;36mvstack\u001b[1;34m(tup)\u001b[0m\n\u001b[0;32m    235\u001b[0m \u001b[1;33m\u001b[0m\u001b[0m\n\u001b[0;32m    236\u001b[0m     \"\"\"\n\u001b[1;32m--> 237\u001b[1;33m     \u001b[1;32mreturn\u001b[0m \u001b[0m_nx\u001b[0m\u001b[1;33m.\u001b[0m\u001b[0mconcatenate\u001b[0m\u001b[1;33m(\u001b[0m\u001b[1;33m[\u001b[0m\u001b[0matleast_2d\u001b[0m\u001b[1;33m(\u001b[0m\u001b[0m_m\u001b[0m\u001b[1;33m)\u001b[0m \u001b[1;32mfor\u001b[0m \u001b[0m_m\u001b[0m \u001b[1;32min\u001b[0m \u001b[0mtup\u001b[0m\u001b[1;33m]\u001b[0m\u001b[1;33m,\u001b[0m \u001b[1;36m0\u001b[0m\u001b[1;33m)\u001b[0m\u001b[1;33m\u001b[0m\u001b[0m\n\u001b[0m\u001b[0;32m    238\u001b[0m \u001b[1;33m\u001b[0m\u001b[0m\n\u001b[0;32m    239\u001b[0m \u001b[1;32mdef\u001b[0m \u001b[0mhstack\u001b[0m\u001b[1;33m(\u001b[0m\u001b[0mtup\u001b[0m\u001b[1;33m)\u001b[0m\u001b[1;33m:\u001b[0m\u001b[1;33m\u001b[0m\u001b[0m\n",
      "\u001b[1;31mValueError\u001b[0m: all the input array dimensions except for the concatenation axis must match exactly"
     ]
    }
   ],
   "source": [
    "np.vstack((c,np.array([b])))"
   ]
  },
  {
   "cell_type": "code",
   "execution_count": 116,
   "metadata": {},
   "outputs": [],
   "source": [
    "c=np.array([np.zeros((4,4))])"
   ]
  },
  {
   "cell_type": "code",
   "execution_count": 130,
   "metadata": {},
   "outputs": [
    {
     "data": {
      "text/plain": [
       "array([[[ 0.,  0.,  0.,  0.],\n",
       "        [ 0.,  0.,  0.,  0.],\n",
       "        [ 0.,  0.,  0.,  0.],\n",
       "        [ 0.,  0.,  0.,  0.]]])"
      ]
     },
     "execution_count": 130,
     "metadata": {},
     "output_type": "execute_result"
    }
   ],
   "source": [
    "c"
   ]
  },
  {
   "cell_type": "code",
   "execution_count": 122,
   "metadata": {},
   "outputs": [
    {
     "data": {
      "text/plain": [
       "array([[ 0.,  0.,  0.,  0.],\n",
       "       [ 0.,  0.,  0.,  0.],\n",
       "       [ 0.,  0.,  0.,  0.],\n",
       "       [ 0.,  0.,  0.,  0.]])"
      ]
     },
     "execution_count": 122,
     "metadata": {},
     "output_type": "execute_result"
    }
   ],
   "source": [
    "c[0]"
   ]
  },
  {
   "cell_type": "code",
   "execution_count": 124,
   "metadata": {},
   "outputs": [
    {
     "ename": "IndexError",
     "evalue": "index 1 is out of bounds for axis 0 with size 1",
     "output_type": "error",
     "traceback": [
      "\u001b[1;31m---------------------------------------------------------------------------\u001b[0m",
      "\u001b[1;31mIndexError\u001b[0m                                Traceback (most recent call last)",
      "\u001b[1;32m<ipython-input-124-1aed6f45dd78>\u001b[0m in \u001b[0;36m<module>\u001b[1;34m()\u001b[0m\n\u001b[1;32m----> 1\u001b[1;33m \u001b[0mc\u001b[0m\u001b[1;33m[\u001b[0m\u001b[1;36m1\u001b[0m\u001b[1;33m]\u001b[0m\u001b[1;33m=\u001b[0m\u001b[0mb\u001b[0m\u001b[1;33m\u001b[0m\u001b[0m\n\u001b[0m",
      "\u001b[1;31mIndexError\u001b[0m: index 1 is out of bounds for axis 0 with size 1"
     ]
    }
   ],
   "source": [
    "c[1]=b"
   ]
  },
  {
   "cell_type": "code",
   "execution_count": 149,
   "metadata": {},
   "outputs": [],
   "source": [
    "c = np.array([a])"
   ]
  },
  {
   "cell_type": "code",
   "execution_count": 133,
   "metadata": {},
   "outputs": [
    {
     "data": {
      "text/plain": [
       "array([[[ -1.,  -2.,  -3.,  -5.,  -9.],\n",
       "        [ -3.,  -6.,  -9.,   0., -10.],\n",
       "        [-13.,   0.,   0.,   0., -11.],\n",
       "        [-15.,   0.,   0.,   0., -55.],\n",
       "        [ -5.,   0.,  -6.,   0.,  -4.]]])"
      ]
     },
     "execution_count": 133,
     "metadata": {},
     "output_type": "execute_result"
    }
   ],
   "source": [
    "np.array([b])"
   ]
  },
  {
   "cell_type": "code",
   "execution_count": 153,
   "metadata": {},
   "outputs": [
    {
     "data": {
      "text/plain": [
       "array([[[  1.,   2.,   3.,   4.,   0.],\n",
       "        [  0.,   5.,   6.,   7.,   8.],\n",
       "        [ 11.,   0.,  12.,   0.,  13.],\n",
       "        [  0.,  12.,   0.,   0.,   0.],\n",
       "        [  0.,   0.,   0.,  90.,   0.]],\n",
       "\n",
       "       [[ -1.,  -2.,  -3.,  -5.,  -9.],\n",
       "        [ -3.,  -6.,  -9.,   0., -10.],\n",
       "        [-13.,   0.,   0.,   0., -11.],\n",
       "        [-15.,   0.,   0.,   0., -55.],\n",
       "        [ -5.,   0.,  -6.,   0.,  -4.]]])"
      ]
     },
     "execution_count": 153,
     "metadata": {},
     "output_type": "execute_result"
    }
   ],
   "source": [
    "d=np.vstack((c,np.array([b])))\n",
    "d"
   ]
  },
  {
   "cell_type": "code",
   "execution_count": 144,
   "metadata": {},
   "outputs": [
    {
     "data": {
      "text/plain": [
       "array([-13.,   0.,   0.,   0., -11.])"
      ]
     },
     "execution_count": 144,
     "metadata": {},
     "output_type": "execute_result"
    }
   ],
   "source": [
    "b[2]"
   ]
  },
  {
   "cell_type": "code",
   "execution_count": 146,
   "metadata": {},
   "outputs": [
    {
     "data": {
      "text/plain": [
       "array([[[ -1.,  -2.,  -3.,  -5.,  -9.],\n",
       "        [ -3.,  -6.,  -9.,   0., -10.],\n",
       "        [-13.,   0.,   0.,   0., -11.],\n",
       "        [-15.,   0.,   0.,   0., -55.],\n",
       "        [ -5.,   0.,  -6.,   0.,  -4.]]])"
      ]
     },
     "execution_count": 146,
     "metadata": {},
     "output_type": "execute_result"
    }
   ],
   "source": [
    "np.array([b])"
   ]
  },
  {
   "cell_type": "code",
   "execution_count": 151,
   "metadata": {},
   "outputs": [
    {
     "data": {
      "text/plain": [
       "array([[[  1.,   2.,   3.,   4.,   0.],\n",
       "        [  0.,   5.,   6.,   7.,   8.],\n",
       "        [ 11.,   0.,  12.,   0.,  13.],\n",
       "        [  0.,  12.,   0.,   0.,   0.],\n",
       "        [  0.,   0.,   0.,  90.,   0.]]])"
      ]
     },
     "execution_count": 151,
     "metadata": {},
     "output_type": "execute_result"
    }
   ],
   "source": [
    "c"
   ]
  },
  {
   "cell_type": "code",
   "execution_count": 152,
   "metadata": {},
   "outputs": [
    {
     "data": {
      "text/plain": [
       "array([[ -1.,  -2.,  -3.,  -5.,  -9.],\n",
       "       [ -3.,  -6.,  -9.,   0., -10.],\n",
       "       [-13.,   0.,   0.,   0., -11.],\n",
       "       [-15.,   0.,   0.,   0., -55.],\n",
       "       [ -5.,   0.,  -6.,   0.,  -4.]])"
      ]
     },
     "execution_count": 152,
     "metadata": {},
     "output_type": "execute_result"
    }
   ],
   "source": [
    "b"
   ]
  },
  {
   "cell_type": "code",
   "execution_count": 155,
   "metadata": {},
   "outputs": [],
   "source": [
    "e=np.vstack((d,np.array([b])))"
   ]
  },
  {
   "cell_type": "code",
   "execution_count": 156,
   "metadata": {},
   "outputs": [
    {
     "data": {
      "text/plain": [
       "array([[[  1.,   2.,   3.,   4.,   0.],\n",
       "        [  0.,   5.,   6.,   7.,   8.],\n",
       "        [ 11.,   0.,  12.,   0.,  13.],\n",
       "        [  0.,  12.,   0.,   0.,   0.],\n",
       "        [  0.,   0.,   0.,  90.,   0.]],\n",
       "\n",
       "       [[ -1.,  -2.,  -3.,  -5.,  -9.],\n",
       "        [ -3.,  -6.,  -9.,   0., -10.],\n",
       "        [-13.,   0.,   0.,   0., -11.],\n",
       "        [-15.,   0.,   0.,   0., -55.],\n",
       "        [ -5.,   0.,  -6.,   0.,  -4.]],\n",
       "\n",
       "       [[ -1.,  -2.,  -3.,  -5.,  -9.],\n",
       "        [ -3.,  -6.,  -9.,   0., -10.],\n",
       "        [-13.,   0.,   0.,   0., -11.],\n",
       "        [-15.,   0.,   0.,   0., -55.],\n",
       "        [ -5.,   0.,  -6.,   0.,  -4.]]])"
      ]
     },
     "execution_count": 156,
     "metadata": {},
     "output_type": "execute_result"
    }
   ],
   "source": [
    "e"
   ]
  },
  {
   "cell_type": "code",
   "execution_count": 159,
   "metadata": {},
   "outputs": [
    {
     "data": {
      "text/plain": [
       "array([[ -1.,  -2.,  -3.,  -5.,  -9.],\n",
       "       [ -3.,  -6.,  -9.,   0., -10.],\n",
       "       [-13.,   0.,   0.,   0., -11.],\n",
       "       [-15.,   0.,   0.,   0., -55.],\n",
       "       [ -5.,   0.,  -6.,   0.,  -4.]])"
      ]
     },
     "execution_count": 159,
     "metadata": {},
     "output_type": "execute_result"
    }
   ],
   "source": [
    "e[2]"
   ]
  },
  {
   "cell_type": "code",
   "execution_count": 160,
   "metadata": {},
   "outputs": [
    {
     "data": {
      "text/plain": [
       "array([[[  1.,   2.,   3.,   4.,   0.],\n",
       "        [  0.,   5.,   6.,   7.,   8.],\n",
       "        [ 11.,   0.,  12.,   0.,  13.],\n",
       "        [  0.,  12.,   0.,   0.,   0.],\n",
       "        [  0.,   0.,   0.,  90.,   0.]],\n",
       "\n",
       "       [[ -1.,  -2.,  -3.,  -5.,  -9.],\n",
       "        [ -3.,  -6.,  -9.,   0., -10.],\n",
       "        [-13.,   0.,   0.,   0., -11.],\n",
       "        [-15.,   0.,   0.,   0., -55.],\n",
       "        [ -5.,   0.,  -6.,   0.,  -4.]]])"
      ]
     },
     "execution_count": 160,
     "metadata": {},
     "output_type": "execute_result"
    }
   ],
   "source": [
    "e[0:-1]"
   ]
  },
  {
   "cell_type": "code",
   "execution_count": 161,
   "metadata": {},
   "outputs": [
    {
     "data": {
      "text/plain": [
       "array([[0, 1],\n",
       "       [2, 3]])"
      ]
     },
     "execution_count": 161,
     "metadata": {},
     "output_type": "execute_result"
    }
   ],
   "source": [
    "np.array([(0,1),(2,3)])"
   ]
  },
  {
   "cell_type": "code",
   "execution_count": 163,
   "metadata": {},
   "outputs": [],
   "source": [
    "a=np.array([])"
   ]
  },
  {
   "cell_type": "code",
   "execution_count": 165,
   "metadata": {},
   "outputs": [
    {
     "ename": "ValueError",
     "evalue": "need at least one array to stack",
     "output_type": "error",
     "traceback": [
      "\u001b[1;31m---------------------------------------------------------------------------\u001b[0m",
      "\u001b[1;31mValueError\u001b[0m                                Traceback (most recent call last)",
      "\u001b[1;32m<ipython-input-165-8c6b2498b9c6>\u001b[0m in \u001b[0;36m<module>\u001b[1;34m()\u001b[0m\n\u001b[1;32m----> 1\u001b[1;33m \u001b[0mnp\u001b[0m\u001b[1;33m.\u001b[0m\u001b[0mstack\u001b[0m\u001b[1;33m(\u001b[0m\u001b[0ma\u001b[0m\u001b[1;33m,\u001b[0m\u001b[1;33m[\u001b[0m\u001b[1;33m(\u001b[0m\u001b[1;36m0\u001b[0m\u001b[1;33m,\u001b[0m\u001b[1;36m1\u001b[0m\u001b[1;33m)\u001b[0m\u001b[1;33m]\u001b[0m\u001b[1;33m)\u001b[0m\u001b[1;33m\u001b[0m\u001b[0m\n\u001b[0m",
      "\u001b[1;32m~\\Anaconda3\\lib\\site-packages\\numpy\\core\\shape_base.py\u001b[0m in \u001b[0;36mstack\u001b[1;34m(arrays, axis)\u001b[0m\n\u001b[0;32m    348\u001b[0m     \u001b[0marrays\u001b[0m \u001b[1;33m=\u001b[0m \u001b[1;33m[\u001b[0m\u001b[0masanyarray\u001b[0m\u001b[1;33m(\u001b[0m\u001b[0marr\u001b[0m\u001b[1;33m)\u001b[0m \u001b[1;32mfor\u001b[0m \u001b[0marr\u001b[0m \u001b[1;32min\u001b[0m \u001b[0marrays\u001b[0m\u001b[1;33m]\u001b[0m\u001b[1;33m\u001b[0m\u001b[0m\n\u001b[0;32m    349\u001b[0m     \u001b[1;32mif\u001b[0m \u001b[1;32mnot\u001b[0m \u001b[0marrays\u001b[0m\u001b[1;33m:\u001b[0m\u001b[1;33m\u001b[0m\u001b[0m\n\u001b[1;32m--> 350\u001b[1;33m         \u001b[1;32mraise\u001b[0m \u001b[0mValueError\u001b[0m\u001b[1;33m(\u001b[0m\u001b[1;34m'need at least one array to stack'\u001b[0m\u001b[1;33m)\u001b[0m\u001b[1;33m\u001b[0m\u001b[0m\n\u001b[0m\u001b[0;32m    351\u001b[0m \u001b[1;33m\u001b[0m\u001b[0m\n\u001b[0;32m    352\u001b[0m     \u001b[0mshapes\u001b[0m \u001b[1;33m=\u001b[0m \u001b[0mset\u001b[0m\u001b[1;33m(\u001b[0m\u001b[0marr\u001b[0m\u001b[1;33m.\u001b[0m\u001b[0mshape\u001b[0m \u001b[1;32mfor\u001b[0m \u001b[0marr\u001b[0m \u001b[1;32min\u001b[0m \u001b[0marrays\u001b[0m\u001b[1;33m)\u001b[0m\u001b[1;33m\u001b[0m\u001b[0m\n",
      "\u001b[1;31mValueError\u001b[0m: need at least one array to stack"
     ]
    }
   ],
   "source": [
    "np.stack(a,[(0,1)])"
   ]
  },
  {
   "cell_type": "code",
   "execution_count": 166,
   "metadata": {},
   "outputs": [
    {
     "data": {
      "text/plain": [
       "array([[[  1.,   2.,   3.,   4.,   0.],\n",
       "        [  0.,   5.,   6.,   7.,   8.],\n",
       "        [ 11.,   0.,  12.,   0.,  13.],\n",
       "        [  0.,  12.,   0.,   0.,   0.],\n",
       "        [  0.,   0.,   0.,  90.,   0.]]])"
      ]
     },
     "execution_count": 166,
     "metadata": {},
     "output_type": "execute_result"
    }
   ],
   "source": [
    "c"
   ]
  },
  {
   "cell_type": "code",
   "execution_count": 167,
   "metadata": {},
   "outputs": [
    {
     "data": {
      "text/plain": [
       "array([[ -1.,  -2.,  -3.,  -5.,  -9.],\n",
       "       [ -3.,  -6.,  -9.,   0., -10.],\n",
       "       [-13.,   0.,   0.,   0., -11.],\n",
       "       [-15.,   0.,   0.,   0., -55.],\n",
       "       [ -5.,   0.,  -6.,   0.,  -4.]])"
      ]
     },
     "execution_count": 167,
     "metadata": {},
     "output_type": "execute_result"
    }
   ],
   "source": [
    "b"
   ]
  },
  {
   "cell_type": "code",
   "execution_count": 179,
   "metadata": {},
   "outputs": [
    {
     "data": {
      "text/plain": [
       "array([[[  1.,   2.,   3.,   4.,   0.],\n",
       "        [  0.,   5.,   6.,   7.,   8.],\n",
       "        [ 11.,   0.,  12.,   0.,  13.],\n",
       "        [  0.,  12.,   0.,   0.,   0.],\n",
       "        [  0.,   0.,   0.,  90.,   0.]],\n",
       "\n",
       "       [[ -1.,  -2.,  -3.,  -5.,  -9.],\n",
       "        [ -3.,  -6.,  -9.,   0., -10.],\n",
       "        [-13.,   0.,   0.,   0., -11.],\n",
       "        [-15.,   0.,   0.,   0., -55.],\n",
       "        [ -5.,   0.,  -6.,   0.,  -4.]]])"
      ]
     },
     "execution_count": 179,
     "metadata": {},
     "output_type": "execute_result"
    }
   ],
   "source": [
    "np.vstack((c,np.array([b])))"
   ]
  },
  {
   "cell_type": "code",
   "execution_count": 182,
   "metadata": {},
   "outputs": [
    {
     "data": {
      "image/png": "[encoded data removed]",
      "text/plain": [
       "<matplotlib.figure.Figure at 0x26e56f35c88>"
      ]
     },
     "metadata": {},
     "output_type": "display_data"
    }
   ],
   "source": [
    "import matplotlib.pyplot as plt\n",
    "from matplotlib import colors\n",
    "import numpy as np\n",
    "\n",
    "np.random.seed(101)\n",
    "zvals = np.random.rand(4, 4) * 10\n",
    "\n",
    "# make a color map of fixed colors\n",
    "cmap = colors.ListedColormap(['white', 'yellow', 'black'])\n",
    "bounds=[0,5,10]\n",
    "norm = colors.BoundaryNorm(bounds, cmap.N)\n",
    "\n",
    "# tell imshow about color map so that only set colors are used\n",
    "img = plt.imshow(zvals, interpolation='nearest', origin='lower',\n",
    "                    cmap=cmap, norm=norm)\n",
    "\n",
    "# make a color bar\n",
    "plt.colorbar(img, cmap=cmap, norm=norm, boundaries=bounds, ticks=[0, 5, 10])\n",
    "\n",
    "plt.savefig('redwhite.png')\n",
    "plt.show()"
   ]
  },
  {
   "cell_type": "code",
   "execution_count": 183,
   "metadata": {},
   "outputs": [
    {
     "data": {
      "text/plain": [
       "<matplotlib.colors.BoundaryNorm at 0x26e56f357b8>"
      ]
     },
     "execution_count": 183,
     "metadata": {},
     "output_type": "execute_result"
    }
   ],
   "source": [
    "norm"
   ]
  },
  {
   "cell_type": "code",
   "execution_count": 184,
   "metadata": {
    "collapsed": true
   },
   "outputs": [],
   "source": [
    "import numpy as np\n",
    "palette = np.array([[  0,   0,   0],   # black\n",
    "                    [255,   0,   0],   # red\n",
    "                    [  0, 255,   0],   # green\n",
    "                    [  0,   0, 255],   # blue\n",
    "                    [255, 255, 255]])  # white\n",
    "I = np.array([[ 0, 1, 2, 0],    # 2 rows, 4 columns, 1 channel\n",
    "              [ 0, 3, 4, 0]])"
   ]
  },
  {
   "cell_type": "code",
   "execution_count": 185,
   "metadata": {
    "collapsed": true
   },
   "outputs": [],
   "source": [
    "RGB = palette[I]\n"
   ]
  },
  {
   "cell_type": "code",
   "execution_count": 186,
   "metadata": {},
   "outputs": [
    {
     "data": {
      "text/plain": [
       "array([[[  0,   0,   0],\n",
       "        [255,   0,   0],\n",
       "        [  0, 255,   0],\n",
       "        [  0,   0,   0]],\n",
       "\n",
       "       [[  0,   0,   0],\n",
       "        [  0,   0, 255],\n",
       "        [255, 255, 255],\n",
       "        [  0,   0,   0]]])"
      ]
     },
     "execution_count": 186,
     "metadata": {},
     "output_type": "execute_result"
    }
   ],
   "source": [
    "RGB"
   ]
  },
  {
   "cell_type": "code",
   "execution_count": 190,
   "metadata": {},
   "outputs": [
    {
     "data": {
      "image/png": "[encoded data removed]",
      "text/plain": [
       "<matplotlib.figure.Figure at 0x26e570a73c8>"
      ]
     },
     "metadata": {},
     "output_type": "display_data"
    }
   ],
   "source": [
    "import numpy as np\n",
    "import matplotlib\n",
    "import matplotlib.pyplot as plt\n",
    "\n",
    "value = -1\n",
    "data = np.arange(100).reshape((10, 10))\n",
    "data[5, :] = -1  # Values to set -1\n",
    "\n",
    "masked_array = np.ma.masked_where(data == value, data)\n",
    "\n",
    "cmap = matplotlib.cm.spring  # Can be any colormap that you want after the cm\n",
    "cmap.set_bad(color='white')\n",
    "\n",
    "plt.imshow(masked_array, cmap=cmap)\n",
    "plt.show()"
   ]
  },
  {
   "cell_type": "code",
   "execution_count": 199,
   "metadata": {},
   "outputs": [
    {
     "data": {
      "image/png": "[encoded data removed]",
      "text/plain": [
       "<matplotlib.figure.Figure at 0x26e57163c18>"
      ]
     },
     "metadata": {},
     "output_type": "display_data"
    }
   ],
   "source": [
    "import numpy as np\n",
    "import matplotlib\n",
    "import matplotlib.pyplot as plt\n",
    "\n",
    "value = -1\n",
    "data = np.array( [[ 11. ,  9. , 11. , 11.],\n",
    "  [ 11. , 11.,  11.,   0.],\n",
    "  [  0.,  11.,   0. , 11.],\n",
    "  [  0.,  11. ,  0.  , 0.]])\n",
    "\n",
    "data[2, :] = -1  # Values to set -1\n",
    "\n",
    "\n",
    "masked_array = np.ma.masked_where(data == value, data)\n",
    "\n",
    "cmap = matplotlib.cm.spring  # Can be any colormap that you want after the cm\n",
    "cmap.set_bad(color='white')\n",
    "\n",
    "plt.imshow(masked_array, cmap=cmap)\n",
    "plt.show()"
   ]
  },
  {
   "cell_type": "code",
   "execution_count": 197,
   "metadata": {},
   "outputs": [],
   "source": [
    "ccc=np.array( [[ 11. ,  9. , 11. , 11.],\n",
    "  [ 11. , 11.,  11.,   0.],\n",
    "  [  0.,  11.,   0. , 11.],\n",
    "  [  0.,  11. ,  0.  , 0.]])"
   ]
  },
  {
   "cell_type": "code",
   "execution_count": 202,
   "metadata": {},
   "outputs": [
    {
     "data": {
      "text/plain": [
       "masked_array(data =\n",
       " [[11.0 9.0 11.0 11.0]\n",
       " [11.0 11.0 11.0 0.0]\n",
       " [-- -- -- --]\n",
       " [0.0 11.0 0.0 0.0]],\n",
       "             mask =\n",
       " [[False False False False]\n",
       " [False False False False]\n",
       " [ True  True  True  True]\n",
       " [False False False False]],\n",
       "       fill_value = 1e+20)"
      ]
     },
     "execution_count": 202,
     "metadata": {},
     "output_type": "execute_result"
    }
   ],
   "source": [
    "masked_array"
   ]
  },
  {
   "cell_type": "code",
   "execution_count": 201,
   "metadata": {},
   "outputs": [
    {
     "data": {
      "text/plain": [
       "<matplotlib.colors.LinearSegmentedColormap at 0x26e55f6a550>"
      ]
     },
     "execution_count": 201,
     "metadata": {},
     "output_type": "execute_result"
    }
   ],
   "source": [
    "cmap"
   ]
  },
  {
   "cell_type": "code",
   "execution_count": 203,
   "metadata": {},
   "outputs": [
    {
     "name": "stdout",
     "output_type": "stream",
     "text": [
      "0\n",
      "1\n",
      "2\n",
      "3\n"
     ]
    }
   ],
   "source": [
    "for i in range(4):\n",
    "    print(i)"
   ]
  },
  {
   "cell_type": "code",
   "execution_count": 205,
   "metadata": {},
   "outputs": [],
   "source": [
    "kk=np.array([[0]*4])"
   ]
  },
  {
   "cell_type": "code",
   "execution_count": 206,
   "metadata": {},
   "outputs": [
    {
     "data": {
      "text/plain": [
       "array([[0, 0, 0, 0]])"
      ]
     },
     "execution_count": 206,
     "metadata": {},
     "output_type": "execute_result"
    }
   ],
   "source": [
    "kk"
   ]
  },
  {
   "cell_type": "code",
   "execution_count": 207,
   "metadata": {},
   "outputs": [
    {
     "data": {
      "text/plain": [
       "0"
      ]
     },
     "execution_count": 207,
     "metadata": {},
     "output_type": "execute_result"
    }
   ],
   "source": [
    "kk[0][-1]"
   ]
  },
  {
   "cell_type": "code",
   "execution_count": 209,
   "metadata": {},
   "outputs": [
    {
     "data": {
      "text/plain": [
       "1"
      ]
     },
     "execution_count": 209,
     "metadata": {},
     "output_type": "execute_result"
    }
   ],
   "source": [
    "[[0,0,0,1]][0][-1]"
   ]
  },
  {
   "cell_type": "code",
   "execution_count": null,
   "metadata": {
    "collapsed": true
   },
   "outputs": [],
   "source": [
    "len"
   ]
  }
 ],
 "metadata": {
  "kernelspec": {
   "display_name": "Python 3",
   "language": "python",
   "name": "python3"
  },
  "language_info": {
   "codemirror_mode": {
    "name": "ipython",
    "version": 3
   },
   "file_extension": ".py",
   "mimetype": "text/x-python",
   "name": "python",
   "nbconvert_exporter": "python",
   "pygments_lexer": "ipython3",
   "version": "3.6.3"
  }
 },
 "nbformat": 4,
 "nbformat_minor": 2
}

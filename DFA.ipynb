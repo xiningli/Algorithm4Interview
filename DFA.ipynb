{
 "cells": [
  {
   "cell_type": "code",
   "execution_count": null,
   "metadata": {
    "collapsed": true
   },
   "outputs": [],
   "source": [
    "class DFA:\n",
    "    current_state = None;\n",
    "    def __init__(self, states, alphabet, transition_function, start_state, accept_states):\n",
    "        self.states = states;\n",
    "        self.alphabet = alphabet;\n",
    "        self.transition_function = transition_function;\n",
    "        self.start_state = start_state;\n",
    "        self.accept_states = accept_states;\n",
    "        self.current_state = start_state;\n",
    "        return;\n",
    "    \n",
    "    def transition_to_state_with_input(self, input_value):\n",
    "        if ((self.current_state, input_value) not in self.transition_function.keys()):\n",
    "            self.current_state = None;\n",
    "            return;\n",
    "        self.current_state = self.transition_function[(self.current_state, input_value)];\n",
    "        return;\n",
    "    \n",
    "    def in_accept_state(self):\n",
    "        return self.current_state in accept_states;\n",
    "    \n",
    "    def go_to_initial_state(self):\n",
    "        self.current_state = self.start_state;\n",
    "        return;\n",
    "    \n",
    "    def run_with_input_list(self, input_list):\n",
    "        self.go_to_initial_state();\n",
    "        for inp in input_list:\n",
    "            self.transition_to_state_with_input(inp);\n",
    "            continue;\n",
    "        return self.in_accept_state();\n",
    "    pass;\n",
    "\n",
    "\n",
    "\n",
    "states = {0, 1, 2, 3};\n",
    "alphabet = {'a', 'b', 'c', 'd'};\n",
    "\n",
    "tf = dict();\n",
    "tf[(0, 'a')] = 1;\n",
    "tf[(0, 'b')] = 2;\n",
    "tf[(0, 'c')] = 3;\n",
    "tf[(0, 'd')] = 0;\n",
    "tf[(1, 'a')] = 1;\n",
    "tf[(1, 'b')] = 2;\n",
    "tf[(1, 'c')] = 3;\n",
    "tf[(1, 'd')] = 0;\n",
    "tf[(2, 'a')] = 1;\n",
    "tf[(2, 'b')] = 2;\n",
    "tf[(2, 'c')] = 3;\n",
    "tf[(2, 'd')] = 0;\n",
    "tf[(3, 'a')] = 1;\n",
    "tf[(3, 'b')] = 2;\n",
    "tf[(3, 'c')] = 3;\n",
    "tf[(3, 'd')] = 0;\n",
    "start_state = 0;\n",
    "accept_states = {2, 3};\n",
    "\n",
    "d = DFA(states, alphabet, tf, start_state, accept_states);\n",
    "\n",
    "inp_program = list('abcdabcdabcd');\n",
    "\n",
    "print d.run_with_input_list(inp_program);\n"
   ]
  }
 ],
 "metadata": {
  "kernelspec": {
   "display_name": "Python 3",
   "language": "python",
   "name": "python3"
  },
  "language_info": {
   "codemirror_mode": {
    "name": "ipython",
    "version": 3
   },
   "file_extension": ".py",
   "mimetype": "text/x-python",
   "name": "python",
   "nbconvert_exporter": "python",
   "pygments_lexer": "ipython3",
   "version": "3.6.3"
  }
 },
 "nbformat": 4,
 "nbformat_minor": 2
}
